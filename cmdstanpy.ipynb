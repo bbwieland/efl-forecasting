{
 "cells": [
  {
   "cell_type": "code",
   "execution_count": 1,
   "metadata": {},
   "outputs": [
    {
     "name": "stderr",
     "output_type": "stream",
     "text": [
      "/Users/bwieland/Desktop/Personal Work/efl-forecasting/.venv/lib/python3.12/site-packages/tqdm/auto.py:21: TqdmWarning: IProgress not found. Please update jupyter and ipywidgets. See https://ipywidgets.readthedocs.io/en/stable/user_install.html\n",
      "  from .autonotebook import tqdm as notebook_tqdm\n"
     ]
    }
   ],
   "source": [
    "import os\n",
    "from cmdstanpy import CmdStanModel\n",
    "import cmdstanpy\n",
    "import pandas as pd\n",
    "import src.etl as etl"
   ]
  },
  {
   "cell_type": "code",
   "execution_count": 2,
   "metadata": {},
   "outputs": [],
   "source": [
    "stan_file = \"model.stan\""
   ]
  },
  {
   "cell_type": "code",
   "execution_count": 3,
   "metadata": {},
   "outputs": [
    {
     "name": "stderr",
     "output_type": "stream",
     "text": [
      "DEBUG:cmdstanpy:found newer exe file, not recompiling\n"
     ]
    }
   ],
   "source": [
    "model = CmdStanModel(stan_file=stan_file)"
   ]
  },
  {
   "cell_type": "code",
   "execution_count": 4,
   "metadata": {},
   "outputs": [],
   "source": [
    "raw_data = pd.read_csv(\"match_data.csv\")\n",
    "raw_data, encoders, model_dict, model_coords = etl.preprocess_data(input_df=raw_data, subset=True)"
   ]
  },
  {
   "cell_type": "code",
   "execution_count": 5,
   "metadata": {},
   "outputs": [
    {
     "data": {
      "text/plain": [
       "{'home_team_idx': 0        7\n",
       " 1       26\n",
       " 2       22\n",
       " 3       10\n",
       " 4       12\n",
       "         ..\n",
       " 3073    13\n",
       " 3074    28\n",
       " 3075     4\n",
       " 3076    24\n",
       " 3077    36\n",
       " Name: home_team_idx, Length: 3078, dtype: int8,\n",
       " 'away_team_idx': 0        0\n",
       " 1       21\n",
       " 2       51\n",
       " 3        8\n",
       " 4       14\n",
       "         ..\n",
       " 3073    15\n",
       " 3074    21\n",
       " 3075    43\n",
       " 3076    11\n",
       " 3077    44\n",
       " Name: away_team_idx, Length: 3078, dtype: int8,\n",
       " 'league_idx': 0       1\n",
       " 1       1\n",
       " 2       1\n",
       " 3       1\n",
       " 4       1\n",
       "        ..\n",
       " 3073    0\n",
       " 3074    0\n",
       " 3075    0\n",
       " 3076    0\n",
       " 3077    0\n",
       " Name: league_idx, Length: 3078, dtype: int8,\n",
       " 'season_idx': 0       0\n",
       " 1       0\n",
       " 2       0\n",
       " 3       0\n",
       " 4       0\n",
       "        ..\n",
       " 3073    3\n",
       " 3074    3\n",
       " 3075    3\n",
       " 3076    3\n",
       " 3077    3\n",
       " Name: season_idx, Length: 3078, dtype: int8,\n",
       " 'home_score': 0       2.0\n",
       " 1       5.0\n",
       " 2       1.0\n",
       " 3       1.0\n",
       " 4       3.0\n",
       "        ... \n",
       " 3073    1.0\n",
       " 3074    1.0\n",
       " 3075    0.0\n",
       " 3076    1.0\n",
       " 3077    0.0\n",
       " Name: home_score, Length: 3078, dtype: float64,\n",
       " 'away_score': 0       0.0\n",
       " 1       1.0\n",
       " 2       0.0\n",
       " 3       2.0\n",
       " 4       0.0\n",
       "        ... \n",
       " 3073    2.0\n",
       " 3074    0.0\n",
       " 3075    2.0\n",
       " 3076    0.0\n",
       " 3077    0.0\n",
       " Name: away_score, Length: 3078, dtype: float64,\n",
       " 'home_xg': 0       1.2\n",
       " 1       1.5\n",
       " 2       0.5\n",
       " 3       1.5\n",
       " 4       0.7\n",
       "        ... \n",
       " 3073    0.9\n",
       " 3074    0.2\n",
       " 3075    2.5\n",
       " 3076    1.0\n",
       " 3077    1.4\n",
       " Name: home_xg, Length: 3078, dtype: float64,\n",
       " 'away_xg': 0       1.3\n",
       " 1       0.5\n",
       " 2       1.3\n",
       " 3       1.0\n",
       " 4       0.2\n",
       "        ... \n",
       " 3073    0.4\n",
       " 3074    0.8\n",
       " 3075    2.0\n",
       " 3076    0.6\n",
       " 3077    0.7\n",
       " Name: away_xg, Length: 3078, dtype: float64}"
      ]
     },
     "execution_count": 5,
     "metadata": {},
     "output_type": "execute_result"
    }
   ],
   "source": [
    "model_dict"
   ]
  },
  {
   "cell_type": "code",
   "execution_count": null,
   "metadata": {},
   "outputs": [],
   "source": []
  }
 ],
 "metadata": {
  "kernelspec": {
   "display_name": ".venv",
   "language": "python",
   "name": "python3"
  },
  "language_info": {
   "codemirror_mode": {
    "name": "ipython",
    "version": 3
   },
   "file_extension": ".py",
   "mimetype": "text/x-python",
   "name": "python",
   "nbconvert_exporter": "python",
   "pygments_lexer": "ipython3",
   "version": "3.12.7"
  }
 },
 "nbformat": 4,
 "nbformat_minor": 2
}
